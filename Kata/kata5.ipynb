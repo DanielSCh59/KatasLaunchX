{
 "cells": [
  {
   "cell_type": "markdown",
   "metadata": {},
   "source": [
    "# Kata 5\n",
    "Ejericicio 1"
   ]
  },
  {
   "cell_type": "code",
   "execution_count": 2,
   "metadata": {},
   "outputs": [
    {
     "name": "stdout",
     "output_type": "stream",
     "text": [
      "\n",
      "La distancia entre ambos planetas en Km es de: 238371796\n",
      "La distancia entre ambos planetas en Millas es de: 148028885.31599998\n"
     ]
    }
   ],
   "source": [
    "distancia_planeta1=628949330\n",
    "distancia_planeta2=390577534\n",
    "\n",
    "390577534\n",
    "\n",
    "distancia_entre_planeta2_y_planeta1KM= abs(distancia_planeta2-distancia_planeta1)\n",
    "distancia_en_Millas= distancia_entre_planeta2_y_planeta1KM*0.621\n",
    "\n",
    "print(\"\"\"\n",
    "La distancia entre ambos planetas en Km es de: {0}\n",
    "La distancia entre ambos planetas en Millas es de: {1}\"\"\".format(distancia_entre_planeta2_y_planeta1KM,distancia_en_Millas))"
   ]
  },
  {
   "cell_type": "markdown",
   "metadata": {},
   "source": [
    "## Ejercicio 2"
   ]
  },
  {
   "cell_type": "code",
   "execution_count": 4,
   "metadata": {},
   "outputs": [
    {
     "name": "stdout",
     "output_type": "stream",
     "text": [
      "La distancia entre estos 2 planetas en km es de: 629000000\n",
      "Distancia en Millas: 390609000.0 \n"
     ]
    }
   ],
   "source": [
    "distanciaSol_planeta1=input(\"Ingrese la distancia entre el sol y el planeta 1: \")\n",
    "distanciaSol_planeta2=input(\"Ingrese la distancia entre el sol y el planeta 2: \")\n",
    "\n",
    "distanciaSP1=int(distanciaSol_planeta1)\n",
    "distanciaSP2=int(distanciaSol_planeta2)\n",
    "\n",
    "distancia_entre_2_planetasKm=abs(distanciaSP1-distanciaSP2)\n",
    "distancia_entre_2_planetasMll=distancia_entre_2_planetasKm*0.621\n",
    "\n",
    "print(f\"La distancia entre estos 2 planetas en km es de: {distancia_entre_2_planetasKm}\"+\n",
    "f\"\\nDistancia en Millas: {distancia_entre_2_planetasMll} \")\n"
   ]
  }
 ],
 "metadata": {
  "interpreter": {
   "hash": "feecf9b02417a09f5e27a431d0460e210a46c4b50901264af25597cae0ceffca"
  },
  "kernelspec": {
   "display_name": "Python 3.9.10 64-bit",
   "language": "python",
   "name": "python3"
  },
  "language_info": {
   "codemirror_mode": {
    "name": "ipython",
    "version": 3
   },
   "file_extension": ".py",
   "mimetype": "text/x-python",
   "name": "python",
   "nbconvert_exporter": "python",
   "pygments_lexer": "ipython3",
   "version": "3.9.10"
  },
  "orig_nbformat": 4
 },
 "nbformat": 4,
 "nbformat_minor": 2
}
