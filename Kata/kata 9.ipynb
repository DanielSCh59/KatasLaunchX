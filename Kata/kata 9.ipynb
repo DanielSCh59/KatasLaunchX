{
 "cells": [
  {
   "cell_type": "markdown",
   "metadata": {},
   "source": [
    "# Kata 9\n",
    "Ejercicio 1\n",
    "Declara una funcion que devuelva un informe de 3 tanques de combustible.\n",
    "Tanques:\n",
    "\n",
    "Tanque de oxigeno= oxigenoDp\n",
    "\n",
    "Tanque de hidrogeno= hidrDp\n",
    "\n",
    "Tanque combustible principal= mainDp"
   ]
  },
  {
   "cell_type": "code",
   "execution_count": 16,
   "metadata": {},
   "outputs": [],
   "source": [
    "\n",
    "def informe(oxigenoDp,hidrDp,mainDp):\n",
    "    inf=f\"\"\"\n",
    "    Tanque de oxigeno: {oxigenoDp}\n",
    "    Tanque de hidrogeno: {hidrDp}\n",
    "    Tanque principal: {mainDp}\n",
    "    Promedio: {promedio(oxigenoDp,hidrDp,mainDp)}\"\"\"\n",
    "    return inf\n",
    "\n",
    "\n",
    "def promedio(oxigenoDp,hidrDp, mainDp):\n",
    "    promedio= (oxigenoDp+hidrDp+mainDp)/3\n",
    "\n",
    "    return promedio\n"
   ]
  },
  {
   "cell_type": "code",
   "execution_count": 17,
   "metadata": {},
   "outputs": [
    {
     "name": "stdout",
     "output_type": "stream",
     "text": [
      "\n",
      "    Tanque de oxigeno: 99\n",
      "    Tanque de hidrogeno: 120\n",
      "    Tanque principal: 250\n",
      "    Promedio: 156.33333333333334\n"
     ]
    }
   ],
   "source": [
    "print(informe(99,120,250))"
   ]
  },
  {
   "cell_type": "markdown",
   "metadata": {},
   "source": [
    "# Kata 9\n",
    "Ejercicio 2\n",
    "Variables utilizadas\n",
    "\n",
    "hora de prelanzamiento= prelanzamientoT\n",
    "\n",
    "tiempo de vuelo= vueloV\n",
    "\n",
    "destino= destino\n",
    "\n",
    "tanque externo= dpExt\n",
    "\n",
    "tanque interno= dpInt"
   ]
  },
  {
   "cell_type": "code",
   "execution_count": 22,
   "metadata": {},
   "outputs": [
    {
     "name": "stdout",
     "output_type": "stream",
     "text": [
      "\n",
      "    Viaje hacia: Luna\n",
      "    Tiempo de vuelo: 90 minutos\n",
      "    Total combustible: 500\n",
      "    Promedios del total del combustible por tanque:\n",
      "    Promedio del tanque externo: 40.0\n",
      "    Promedio del tanque interno: 60.0\n"
     ]
    }
   ],
   "source": [
    "#def reporte(prelanT,vueloV,destino,dpExt,dpInt):\n",
    "    # message=f\"\"\"\n",
    "    # Viaje hacia: {destino}\n",
    "    # Tiempo de vuelo: {prelanT+vueloV} minutos\n",
    "    #Total combustible: {dpExt+dpInt}\n",
    "    #Promedios del total del combustible por tanque:\n",
    "    #Promedio del tanque externo: {((dpExt/(dpExt+dpInt))*100)}\n",
    "    #Promedio del tanque interno: {((dpInt/(dpInt+dpExt))*100)}\"\"\"\n",
    "    #return message\n",
    "\n",
    "#print(reporte(40,50,'Luna',200,300))"
   ]
  },
  {
   "cell_type": "code",
   "execution_count": 44,
   "metadata": {},
   "outputs": [
    {
     "name": "stdout",
     "output_type": "stream",
     "text": [
      "\n",
      "    Viaje hacia: Luna\n",
      "    Tiempo vuelo 90\n",
      "    Total combustible: 500\n",
      "    Porcentaje por tanque del total:\n",
      "        Porcentaje del tanque  externo: 60.0%\n",
      "\n",
      "        Porcentaje del tanque  interno: 40.0%\n",
      "\n"
     ]
    }
   ],
   "source": [
    "def reporte(destino,*tiempos,**tanques):\n",
    "    \n",
    "    \n",
    "    message= f\"\"\"\n",
    "    Viaje hacia: {destino}\n",
    "    Tiempo vuelo {sum(tiempos)}\n",
    "    Total combustible: {sum(tanques.values())}\n",
    "    Porcentaje por tanque del total:\"\"\"\n",
    "    for title,capacidad in tanques.items():\n",
    "        message+=f\"\"\"\n",
    "        Porcentaje del tanque  {title}: {((capacidad/(sum(tanques.values()))) *100)}%\\n\"\"\"\n",
    "\n",
    "    return message\n",
    "\n",
    "\n",
    "\n",
    "print(reporte('Luna',50,40,externo=300,interno=200))\n",
    "\n",
    "\n",
    "\n",
    "\n",
    "\n",
    "\n",
    "\n",
    "#print(reporte('Luna',40,20,30,dpEx=200,dpIn=300))"
   ]
  }
 ],
 "metadata": {
  "interpreter": {
   "hash": "feecf9b02417a09f5e27a431d0460e210a46c4b50901264af25597cae0ceffca"
  },
  "kernelspec": {
   "display_name": "Python 3.9.10 64-bit",
   "language": "python",
   "name": "python3"
  },
  "language_info": {
   "codemirror_mode": {
    "name": "ipython",
    "version": 3
   },
   "file_extension": ".py",
   "mimetype": "text/x-python",
   "name": "python",
   "nbconvert_exporter": "python",
   "pygments_lexer": "ipython3",
   "version": "3.9.10"
  },
  "orig_nbformat": 4
 },
 "nbformat": 4,
 "nbformat_minor": 2
}
