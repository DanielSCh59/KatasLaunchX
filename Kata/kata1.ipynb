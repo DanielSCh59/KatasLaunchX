{
 "cells": [
  {
   "cell_type": "markdown",
   "metadata": {},
   "source": [
    "# Modulo 1 Kata 1\n",
    "\n",
    "Ejercicio del modulo 1 "
   ]
  },
  {
   "cell_type": "code",
   "execution_count": 3,
   "metadata": {},
   "outputs": [
    {
     "name": "stdout",
     "output_type": "stream",
     "text": [
      "Today's date is 2022-02-12\n",
      "11Parsec, is 35.877159999999996 light years\n"
     ]
    }
   ],
   "source": [
    "from datetime import date\n",
    "print(\"Today's date is \"+str(date.today()))\n",
    "\n",
    "parsec=11\n",
    "lightyears= 3.26156 *parsec\n",
    "print( str(parsec)+ \"Parsec, is \"+ str(lightyears)+\" light years\")"
   ]
  }
 ],
 "metadata": {
  "interpreter": {
   "hash": "feecf9b02417a09f5e27a431d0460e210a46c4b50901264af25597cae0ceffca"
  },
  "kernelspec": {
   "display_name": "Python 3.9.10 64-bit",
   "language": "python",
   "name": "python3"
  },
  "language_info": {
   "codemirror_mode": {
    "name": "ipython",
    "version": 3
   },
   "file_extension": ".py",
   "mimetype": "text/x-python",
   "name": "python",
   "nbconvert_exporter": "python",
   "pygments_lexer": "ipython3",
   "version": "3.9.10"
  },
  "orig_nbformat": 4
 },
 "nbformat": 4,
 "nbformat_minor": 2
}
