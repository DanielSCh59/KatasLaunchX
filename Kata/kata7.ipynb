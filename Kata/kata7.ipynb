{
 "cells": [
  {
   "cell_type": "markdown",
   "metadata": {},
   "source": [
    "# Kata 7\n",
    "Ejercicio 7.1..."
   ]
  },
  {
   "cell_type": "code",
   "execution_count": 10,
   "metadata": {},
   "outputs": [
    {
     "name": "stdout",
     "output_type": "stream",
     "text": [
      "Tierra\n",
      "Marte\n",
      "Jupiter\n",
      "Urano\n",
      "Neptuno\n",
      "Mercurio\n"
     ]
    }
   ],
   "source": [
    "#Hacer un ciclo while\n",
    "#Variables entrada\n",
    "new_planet=''\n",
    "planets=[]\n",
    "new_planet=input(\"Ingrese un nuevo planeta :\")\n",
    "\n",
    "while  new_planet.lower() !='hecho': \n",
    "         if new_planet:\n",
    "            planets.append(new_planet)\n",
    "            new_planet=input(\"Ingrese un nuevo planeta a la lista o escriba 'Hecho' :\")\n",
    "\n",
    "for planet in planets:\n",
    "    print(planet)"
   ]
  }
 ],
 "metadata": {
  "interpreter": {
   "hash": "feecf9b02417a09f5e27a431d0460e210a46c4b50901264af25597cae0ceffca"
  },
  "kernelspec": {
   "display_name": "Python 3.9.10 64-bit",
   "language": "python",
   "name": "python3"
  },
  "language_info": {
   "codemirror_mode": {
    "name": "ipython",
    "version": 3
   },
   "file_extension": ".py",
   "mimetype": "text/x-python",
   "name": "python",
   "nbconvert_exporter": "python",
   "pygments_lexer": "ipython3",
   "version": "3.9.10"
  },
  "orig_nbformat": 4
 },
 "nbformat": 4,
 "nbformat_minor": 2
}
