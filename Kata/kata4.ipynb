{
 "cells": [
  {
   "cell_type": "markdown",
   "metadata": {},
   "source": [
    "# Ejercicio 1 Kata modulo 4\n",
    "\n",
    "Dividir una cadena y trabajar instrucciones\n",
    "1. Primero, divide el texto en cada oración para trabajar con su contenido\n",
    "2. Ahora, define algunas palabras clave para búsqueda que te ayudarán a determinar si una oración contiene un hecho.\n",
    "3. Cre un bucle para imprimir solo datos sobre la Luna que estén relacionados con las palabras clave definidas anteriormente\n",
    "4. Finalmente, actualiza el bucle(ciclo) para cambiar C a Celsius"
   ]
  },
  {
   "cell_type": "code",
   "execution_count": null,
   "metadata": {},
   "outputs": [],
   "source": [
    "text = \"\"\"Interesting facts about the Moon. The Moon is Earth's only satellite. There are several interesting facts about the Moon and how it affects life here on Earth. \n",
    "On average, the Moon moves 4cm away from the Earth every year.\"\"\"\n",
    "\n",
    "oraciones= text.split('. ' or ', ' or '  \\n')\n",
    "print(oraciones)\n",
    "\n",
    "palabras_clave= ['average','temperature','distance']\n",
    "\n",
    "for oracion in oraciones:\n",
    "    for palabra in palabras_clave:\n",
    "        if palabra in oracion:\n",
    "            print(oracion)\n",
    "            break\n",
    "\n",
    "    \n",
    "for oracion in oraciones:\n",
    "    for clave in palabras_clave:\n",
    "        if clave in oracion:\n",
    "            print(oracion.replace(' C', ' Celsius'))\n",
    "            break"
   ]
  },
  {
   "cell_type": "code",
   "execution_count": 17,
   "metadata": {},
   "outputs": [
    {
     "name": "stdout",
     "output_type": "stream",
     "text": [
      "\n",
      "The Gravity Of The Ganímedes \n",
      "\n",
      "-----------------------------------------\n",
      "Nomnbre del planeta: Marte \n",
      "Gravity on Moon: 1.4300000000000002 \n",
      "\n",
      "Name: Marte \n",
      "Gravity on Ganímedes: 1.4300000000000002\n"
     ]
    }
   ],
   "source": [
    "planet = 'Marte'\n",
    "gravity  = 0.00143\n",
    "name = 'Ganímedes'\n",
    "\n",
    "titulo=f\"The gravity of the {name}\"\n",
    "\n",
    "plantilla=\"\"\"\n",
    "-----------------------------------------\n",
    "Nomnbre del planeta: {0} \n",
    "Gravity on Moon: {1} \"\"\".format(planet,(gravity*1000))\n",
    "\n",
    "union=\"\"\"\n",
    "%s \n",
    "%s\"\"\"%(titulo.title(),plantilla)\n",
    "print(union)\n",
    "\n",
    "nueva_plantilla=\"\"\"\n",
    "Name: {planeta} \n",
    "Gravity on {nombre}: {gravedad}\"\"\".format(planeta=planet,nombre=name,gravedad=gravity*1000)\n",
    "print(nueva_plantilla)\n",
    "\n"
   ]
  }
 ],
 "metadata": {
  "interpreter": {
   "hash": "feecf9b02417a09f5e27a431d0460e210a46c4b50901264af25597cae0ceffca"
  },
  "kernelspec": {
   "display_name": "Python 3.9.10 64-bit",
   "language": "python",
   "name": "python3"
  },
  "language_info": {
   "codemirror_mode": {
    "name": "ipython",
    "version": 3
   },
   "file_extension": ".py",
   "mimetype": "text/x-python",
   "name": "python",
   "nbconvert_exporter": "python",
   "pygments_lexer": "ipython3",
   "version": "3.9.10"
  },
  "orig_nbformat": 4
 },
 "nbformat": 4,
 "nbformat_minor": 2
}
