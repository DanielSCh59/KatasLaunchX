{
 "cells": [
  {
   "cell_type": "markdown",
   "metadata": {},
   "source": [
    "# Kata 8\n",
    "Ejercicio 8.1"
   ]
  },
  {
   "cell_type": "code",
   "execution_count": null,
   "metadata": {},
   "outputs": [],
   "source": [
    "planet= {\n",
    "    'name':'Marte',\n",
    "    'moons':2\n",
    "}\n",
    "print(planet)\n",
    "\n",
    "planet['circunferencia']= {\n",
    "    'polar':6752,\n",
    "    'ecuatorial':6752\n",
    "}\n",
    "print(f\"Planeta: {planet['name']} diametro polar: {planet['circunferencia']['polar']}\")\n",
    "\n"
   ]
  },
  {
   "cell_type": "markdown",
   "metadata": {},
   "source": [
    "## Kata 8\n",
    "Ejercicio 8.2\n"
   ]
  },
  {
   "cell_type": "code",
   "execution_count": 14,
   "metadata": {},
   "outputs": [
    {
     "name": "stdout",
     "output_type": "stream",
     "text": [
      "El numero promedio de lunas en el sistema solar es de: 17.833333333333332\n",
      "El numero total de lunas en el sistema solar es de: 214\n"
     ]
    }
   ],
   "source": [
    "totalLunas=0\n",
    "planet_moons = {\n",
    "    'mercury': 0,\n",
    "    'venus': 0,\n",
    "    'earth': 1,\n",
    "    'mars': 2,\n",
    "    'jupiter': 79,\n",
    "    'saturn': 82,\n",
    "    'uranus': 27,\n",
    "    'neptune': 14,\n",
    "    'pluto': 5,\n",
    "    'haumea': 2,\n",
    "    'makemake': 1,\n",
    "    'eris': 1\n",
    "}\n",
    "moons=planet_moons.values()\n",
    "planets=len(planet_moons)\n",
    "\n",
    "for moons in planet_moons.values():\n",
    "    totalLunas= moons+totalLunas\n",
    "\n",
    "promedio=totalLunas/planets\n",
    "print(\"\"\"El numero promedio de lunas en el sistema solar es de: {0}\n",
    "El numero total de lunas en el sistema solar es de: {1}\"\"\".format(promedio,totalLunas))\n",
    "\n",
    "\n",
    "\n"
   ]
  }
 ],
 "metadata": {
  "interpreter": {
   "hash": "feecf9b02417a09f5e27a431d0460e210a46c4b50901264af25597cae0ceffca"
  },
  "kernelspec": {
   "display_name": "Python 3.9.10 64-bit",
   "language": "python",
   "name": "python3"
  },
  "language_info": {
   "codemirror_mode": {
    "name": "ipython",
    "version": 3
   },
   "file_extension": ".py",
   "mimetype": "text/x-python",
   "name": "python",
   "nbconvert_exporter": "python",
   "pygments_lexer": "ipython3",
   "version": "3.9.10"
  },
  "orig_nbformat": 4
 },
 "nbformat": 4,
 "nbformat_minor": 2
}
