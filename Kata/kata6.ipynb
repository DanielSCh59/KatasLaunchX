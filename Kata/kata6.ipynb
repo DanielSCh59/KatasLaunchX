{
 "cells": [
  {
   "cell_type": "markdown",
   "metadata": {},
   "source": [
    "# Kata 6.1\n",
    "Ejercicio 1"
   ]
  },
  {
   "cell_type": "code",
   "execution_count": 3,
   "metadata": {},
   "outputs": [
    {
     "name": "stdout",
     "output_type": "stream",
     "text": [
      "Estos son los planetas del sistema solar\n",
      "['Mercurio', 'Venus', 'Tierra', 'Marte', 'Jupiter', 'Saturno', 'Urano', 'Neptuno']\n",
      "El numero de planetas es de: 8\n",
      "El ultimo planeta agregado es Pluton\n",
      "El numero total de planetas es de: 9\n"
     ]
    }
   ],
   "source": [
    "planetas=['Mercurio','Venus','Tierra','Marte','Jupiter','Saturno','Urano','Neptuno']\n",
    "print(\"Estos son los planetas del sistema solar\\n{planetas}\\nEl numero de planetas es de: {num}\".format(planetas=planetas,num=len(planetas)))\n",
    "\n",
    "planetas.append('Pluton')\n",
    "print(\"El ultimo planeta agregado es {0}\\nEl numero total de planetas es de: {num}\".format(planetas[-1],num=len(planetas)))"
   ]
  },
  {
   "cell_type": "markdown",
   "metadata": {},
   "source": [
    "## Kata 6.2\n",
    "Ejercicio 2"
   ]
  },
  {
   "cell_type": "code",
   "execution_count": null,
   "metadata": {},
   "outputs": [],
   "source": [
    "planetas=['Mercurio','Venus','Tierra','Marte','Jupiter','Saturno','Urano','Neptuno']\n",
    "\n",
    "entrada=input(\"Ingrese el nombre del planeta a buscar con la primera letra en Mayuscula:  \")\n",
    "\n",
    "#Busqueda\n",
    "#Planetas mas cercanos\n",
    "for planeta in planetas:\n",
    "    if entrada in planeta:\n",
    "        indice=planetas.index(entrada)\n",
    "\n",
    "planetas_cercanos=planetas[0:indice]\n",
    "print(f\"\"\"Los planetas más cercanos al sol desde el planeta que usted indico son: \n",
    "{planetas_cercanos}\"\"\")\n",
    "\n",
    "#Planetas mas lejanos\n",
    "indice2= indice+1\n",
    "planetas_lejanos=planetas[indice2:]\n",
    "print(f\"\"\"Los planetas mas lejanos ubicados despues del planeta indicado son: \\n{planetas_lejanos}\"\"\")"
   ]
  }
 ],
 "metadata": {
  "interpreter": {
   "hash": "feecf9b02417a09f5e27a431d0460e210a46c4b50901264af25597cae0ceffca"
  },
  "kernelspec": {
   "display_name": "Python 3.9.10 64-bit",
   "language": "python",
   "name": "python3"
  },
  "language_info": {
   "codemirror_mode": {
    "name": "ipython",
    "version": 3
   },
   "file_extension": ".py",
   "mimetype": "text/x-python",
   "name": "python",
   "nbconvert_exporter": "python",
   "pygments_lexer": "ipython3",
   "version": "3.9.10"
  },
  "orig_nbformat": 4
 },
 "nbformat": 4,
 "nbformat_minor": 2
}
