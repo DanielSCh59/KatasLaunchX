{
 "cells": [
  {
   "cell_type": "code",
   "execution_count": null,
   "metadata": {},
   "outputs": [],
   "source": [
    "#Ejercicio 1\n",
    "velocidad_asteroide= 49\n",
    "if velocidad_asteroide>25 :\n",
    "    print(\"Se acerca un asteroide muy rapidamente. \")\n",
    "else:\n",
    "    print(\"Todo despejado ... \")"
   ]
  },
  {
   "cell_type": "code",
   "execution_count": 1,
   "metadata": {},
   "outputs": [
    {
     "name": "stdout",
     "output_type": "stream",
     "text": [
      "Todo bien\n"
     ]
    }
   ],
   "source": [
    "#Ejercicio 2\n",
    "asteroideV= 19\n",
    "if asteroideV>25:\n",
    "    print(\"Se acerca un asteroide muy rapidamente. \")\n",
    "elif asteroideV>=20:\n",
    "    print(\"Deberias echar un vistaso al cielo!\")\n",
    "else :\n",
    "        print(\"Todo bien\")"
   ]
  },
  {
   "cell_type": "code",
   "execution_count": 6,
   "metadata": {},
   "outputs": [
    {
     "name": "stdout",
     "output_type": "stream",
     "text": [
      "No pasa nada. Todo bien!\n"
     ]
    }
   ],
   "source": [
    "#Ejercicio 3\n",
    "asteroideV= 19\n",
    "asteroideTm= 19\n",
    "\n",
    "if asteroideV>25 and (asteroideTm>25 and asteroideTm<1000):\n",
    "    print(\"Se acerca un asteroide muy rapidamente de un tamaño preocupante! \")\n",
    "\n",
    "elif asteroideV>=20:\n",
    "    print(\"Deberias echar un vistaso arriba. Podrías ver algo impactante\")\n",
    "else:\n",
    "    print(\"No pasa nada. Todo bien!\")   \n"
   ]
  }
 ],
 "metadata": {
  "interpreter": {
   "hash": "feecf9b02417a09f5e27a431d0460e210a46c4b50901264af25597cae0ceffca"
  },
  "kernelspec": {
   "display_name": "Python 3.9.10 64-bit",
   "language": "python",
   "name": "python3"
  },
  "language_info": {
   "codemirror_mode": {
    "name": "ipython",
    "version": 3
   },
   "file_extension": ".py",
   "mimetype": "text/x-python",
   "name": "python",
   "nbconvert_exporter": "python",
   "pygments_lexer": "ipython3",
   "version": "3.9.10"
  },
  "orig_nbformat": 4
 },
 "nbformat": 4,
 "nbformat_minor": 2
}
